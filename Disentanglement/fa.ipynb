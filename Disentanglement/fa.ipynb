{
 "cells": [
  {
   "cell_type": "code",
   "execution_count": null,
   "metadata": {},
   "outputs": [],
   "source": [
    "# Modified from an R script found on Kaggle - https://www.kaggle.com/code/mathan/factor-analysis-on-match-statistics"
   ]
  },
  {
   "cell_type": "code",
   "execution_count": 38,
   "metadata": {},
   "outputs": [],
   "source": [
    "# Imports \n",
    "\n",
    "import numpy as np\n",
    "from sklearn.decomposition import FactorAnalysis\n",
    "import matplotlib.pyplot as plt\n",
    "import pandas as pd\n",
    "from factor_analyzer.factor_analyzer import calculate_kmo"
   ]
  },
  {
   "cell_type": "code",
   "execution_count": 39,
   "metadata": {},
   "outputs": [],
   "source": [
    "# Load data\n",
    "dataframe = pd.read_csv('FIFA_2018_Statistics.csv')"
   ]
  },
  {
   "cell_type": "code",
   "execution_count": 40,
   "metadata": {},
   "outputs": [],
   "source": [
    "# Preprocess\n",
    "dataframe = dataframe.fillna(0) # Remove NA values\n",
    "dataframe = dataframe.select_dtypes(include=[np.number]) # Remove string columns\n",
    "corr = dataframe.corr() # Compute correlation matrix"
   ]
  },
  {
   "cell_type": "code",
   "execution_count": 43,
   "metadata": {},
   "outputs": [
    {
     "name": "stdout",
     "output_type": "stream",
     "text": [
      "KMO value for Ball Possession % :  0.6598320585522958\n",
      "KMO value for On-Target :  0.7968240502156893\n",
      "KMO value for Blocked :  0.6269368187826782\n",
      "KMO value for Corners :  0.6501822888455828\n",
      "KMO value for Pass Accuracy % :  0.7708021966377492\n",
      "KMO value for Own goals :  0.6623291411373146\n"
     ]
    },
    {
     "name": "stderr",
     "output_type": "stream",
     "text": [
      "c:\\Users\\laurence\\miniconda3\\envs\\sandbox\\lib\\site-packages\\factor_analyzer\\utils.py:244: UserWarning: The inverse of the variance-covariance matrix was calculated using the Moore-Penrose generalized matrix inversion, due to its determinant being at or very close to zero.\n",
      "  warnings.warn(\n"
     ]
    }
   ],
   "source": [
    "\"\"\"The Kaiser-Meyer-Olkin (KMO) test is a measure of sampling adequacy for factor analysis. \n",
    "It is used to determine whether the data is suitable for factor analysis. The KMO value ranges from 0 to 1, with values closer to 1 indicating that the data is more suitable for factor analysis. \n",
    "In general, a KMO value above 0.6 is considered acceptable, and a value above 0.8 is considered good.\"\"\"\n",
    "\n",
    "# calculate KMO value\n",
    "kmo_all, kmo_model = calculate_kmo(corr)\n",
    " \n",
    "# print KMO value\n",
    "variablesToKeep = []\n",
    "for index, variable in enumerate(corr.columns):\n",
    "    if kmo_all[index] > 0.6:\n",
    "        print('KMO value for', variable, ': ', kmo_all[index])\n",
    "        variablesToKeep.append(variable)\n",
    "        \n",
    "# Remove variables with KMO < 0.6\n",
    "dataframe = dataframe[variablesToKeep]"
   ]
  },
  {
   "cell_type": "code",
   "execution_count": null,
   "metadata": {},
   "outputs": [],
   "source": []
  }
 ],
 "metadata": {
  "kernelspec": {
   "display_name": "sandbox",
   "language": "python",
   "name": "python3"
  },
  "language_info": {
   "codemirror_mode": {
    "name": "ipython",
    "version": 3
   },
   "file_extension": ".py",
   "mimetype": "text/x-python",
   "name": "python",
   "nbconvert_exporter": "python",
   "pygments_lexer": "ipython3",
   "version": "3.10.9"
  },
  "orig_nbformat": 4,
  "vscode": {
   "interpreter": {
    "hash": "7e2969a7b1ed043eaa2d183e1506ac404ca40dc26a3e7e48b4c310bf6cc64526"
   }
  }
 },
 "nbformat": 4,
 "nbformat_minor": 2
}
